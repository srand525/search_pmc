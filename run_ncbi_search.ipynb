{
 "cells": [
  {
   "cell_type": "code",
   "execution_count": 22,
   "metadata": {},
   "outputs": [
    {
     "data": {
      "text/plain": [
       "<module 'PMCParse' from '/Users/sophierand/Desktop/github_edits/NCBI_search/PMCParse.py'>"
      ]
     },
     "execution_count": 22,
     "metadata": {},
     "output_type": "execute_result"
    }
   ],
   "source": [
    "import main\n",
    "import importlib\n",
    "import helper\n",
    "import PMCParse\n",
    "importlib.reload(main)\n",
    "importlib.reload(helper)\n",
    "importlib.reload(PMCParse)"
   ]
  },
  {
   "cell_type": "markdown",
   "metadata": {},
   "source": [
    "Set parameters for call to NCBI API"
   ]
  },
  {
   "cell_type": "code",
   "execution_count": 2,
   "metadata": {},
   "outputs": [],
   "source": [
    "input_db = \"PMC\"\n",
    "input_term = \"syndromic surveillance\"\n",
    "email_id = \"s.rand525@gmail.com\""
   ]
  },
  {
   "cell_type": "markdown",
   "metadata": {},
   "source": [
    "### Search"
   ]
  },
  {
   "cell_type": "markdown",
   "metadata": {},
   "source": [
    "Search NCBI database for records fitting this search criteria"
   ]
  },
  {
   "cell_type": "code",
   "execution_count": 3,
   "metadata": {},
   "outputs": [],
   "source": [
    "prop_dict = main.ncbi_search(input_db = input_db,input_term = input_term,email_id = email_id)"
   ]
  },
  {
   "cell_type": "code",
   "execution_count": 4,
   "metadata": {},
   "outputs": [
    {
     "name": "stdout",
     "output_type": "stream",
     "text": [
      "Your search for term 'syndromic surveillance' in the pmc database returned 10 results\n"
     ]
    }
   ],
   "source": [
    "search_summary = \"Your search for term '{0}' in the {1} database returned {2} results\"\n",
    "print(search_summary.format(prop_dict['input_term'],prop_dict['input_db'],prop_dict['record_count']))"
   ]
  },
  {
   "cell_type": "markdown",
   "metadata": {},
   "source": [
    "### Fetch"
   ]
  },
  {
   "cell_type": "markdown",
   "metadata": {},
   "source": [
    "Using the ids we just searched for, fetch associated documents."
   ]
  },
  {
   "cell_type": "code",
   "execution_count": null,
   "metadata": {},
   "outputs": [],
   "source": [
    "# id_list_fetch = helper.id_run('search',input_db = input_db)"
   ]
  },
  {
   "cell_type": "code",
   "execution_count": 5,
   "metadata": {},
   "outputs": [],
   "source": [
    "num_searched, fetch_prop_dict = main.ncbi_fetch(input_db = input_db,input_term = input_term,email_id = email_id)"
   ]
  },
  {
   "cell_type": "code",
   "execution_count": 6,
   "metadata": {},
   "outputs": [
    {
     "name": "stdout",
     "output_type": "stream",
     "text": [
      "Your fetch for 10 document ids returned 3 records from the pmc database\n"
     ]
    }
   ],
   "source": [
    "fetch_summary = \"Your fetch for {0} document ids returned {1} records from the {2} database\"\n",
    "print(fetch_summary.format(num_searched, fetch_prop_dict['record_count'],fetch_prop_dict['input_db']))"
   ]
  },
  {
   "cell_type": "markdown",
   "metadata": {},
   "source": [
    "### Parse"
   ]
  },
  {
   "cell_type": "markdown",
   "metadata": {},
   "source": [
    "Parse the returns from the API into relational tables."
   ]
  },
  {
   "cell_type": "code",
   "execution_count": 23,
   "metadata": {},
   "outputs": [],
   "source": [
    "PMCParse.main()"
   ]
  },
  {
   "cell_type": "code",
   "execution_count": 25,
   "metadata": {},
   "outputs": [],
   "source": [
    "results = helper.id_run(\"parse\",\"pmc\")\n",
    "prop_dict = PMCParse.parse_properties(results)"
   ]
  },
  {
   "cell_type": "code",
   "execution_count": 40,
   "metadata": {},
   "outputs": [
    {
     "name": "stdout",
     "output_type": "stream",
     "text": [
      "You parsed 3 documents from the pmc database into a table with columns: abstract , associatedId , author , journalISO , journalName , meshterms , optionalId01 , optionalId02 , publishdate , publishdatefull , pubtype , pullsource , title database\n"
     ]
    }
   ],
   "source": [
    "parse_summary = \"You parsed {0} documents from the {1} database into a table with columns: {2} database\"\n",
    "print(parse_summary.format(results.shape[0], prop_dict['input_db'],\" , \".join(results.columns.values.tolist())))"
   ]
  },
  {
   "cell_type": "markdown",
   "metadata": {},
   "source": [
    "### Results"
   ]
  },
  {
   "cell_type": "raw",
   "metadata": {},
   "source": [
    "Your resulting dataframe looks like this:"
   ]
  },
  {
   "cell_type": "code",
   "execution_count": 42,
   "metadata": {},
   "outputs": [
    {
     "data": {
      "text/html": [
       "<div>\n",
       "<style scoped>\n",
       "    .dataframe tbody tr th:only-of-type {\n",
       "        vertical-align: middle;\n",
       "    }\n",
       "\n",
       "    .dataframe tbody tr th {\n",
       "        vertical-align: top;\n",
       "    }\n",
       "\n",
       "    .dataframe thead th {\n",
       "        text-align: right;\n",
       "    }\n",
       "</style>\n",
       "<table border=\"1\" class=\"dataframe\">\n",
       "  <thead>\n",
       "    <tr style=\"text-align: right;\">\n",
       "      <th></th>\n",
       "      <th>abstract</th>\n",
       "      <th>associatedId</th>\n",
       "      <th>author</th>\n",
       "      <th>journalISO</th>\n",
       "      <th>journalName</th>\n",
       "      <th>meshterms</th>\n",
       "      <th>optionalId01</th>\n",
       "      <th>optionalId02</th>\n",
       "      <th>publishdate</th>\n",
       "      <th>publishdatefull</th>\n",
       "      <th>pubtype</th>\n",
       "      <th>pullsource</th>\n",
       "      <th>title</th>\n",
       "    </tr>\n",
       "  </thead>\n",
       "  <tbody>\n",
       "    <tr>\n",
       "      <th>0</th>\n",
       "      <td>[{'label': None, 'text': 'Syndromic surveillan...</td>\n",
       "      <td>5676517</td>\n",
       "      <td>[{'fname': 'Paula W.', 'lname': 'Yoon', 'conta...</td>\n",
       "      <td>Public Health Rep</td>\n",
       "      <td>Public Health Reports</td>\n",
       "      <td>[{'descriptorname': 'research agenda'}, {'desc...</td>\n",
       "      <td>10.1177/0033354917709784</td>\n",
       "      <td>28692395</td>\n",
       "      <td>{'day': '10', 'month': '7', 'year': '2017'}</td>\n",
       "      <td>7/10/2017</td>\n",
       "      <td>[Advancing Surveillance Practice]</td>\n",
       "      <td>pmc</td>\n",
       "      <td>A Practitioner-Driven Research Agenda for Synd...</td>\n",
       "    </tr>\n",
       "    <tr>\n",
       "      <th>1</th>\n",
       "      <td>[]</td>\n",
       "      <td>5676505</td>\n",
       "      <td>[{'fname': 'Paula W.', 'lname': 'Yoon', 'conta...</td>\n",
       "      <td>Public Health Rep</td>\n",
       "      <td>Public Health Reports</td>\n",
       "      <td>[{'descriptorname': 'syndromic surveillance'},...</td>\n",
       "      <td>10.1177/0033354917706953</td>\n",
       "      <td>28692401</td>\n",
       "      <td>{'day': '10', 'month': '7', 'year': '2017'}</td>\n",
       "      <td>7/10/2017</td>\n",
       "      <td>[Advancing Surveillance Practice]</td>\n",
       "      <td>pmc</td>\n",
       "      <td>Developing a Multidisciplinary Syndromic Surve...</td>\n",
       "    </tr>\n",
       "    <tr>\n",
       "      <th>2</th>\n",
       "      <td>[{'label': 'Background', 'text': 'Public Healt...</td>\n",
       "      <td>6092922</td>\n",
       "      <td>[{'fname': 'S. E.', 'lname': 'Harcourt', 'cont...</td>\n",
       "      <td>J Public Health (Oxf)</td>\n",
       "      <td>Journal of Public Health (Oxford, England)</td>\n",
       "      <td>[{'descriptorname': 'epidemiology'}, {'descrip...</td>\n",
       "      <td>10.1093/pubmed/fdw013</td>\n",
       "      <td>26956114</td>\n",
       "      <td>{'day': '07', 'month': '3', 'year': '2016'}</td>\n",
       "      <td>3/07/2016</td>\n",
       "      <td>[Original Article]</td>\n",
       "      <td>pmc</td>\n",
       "      <td>Developing and validating a new national remot...</td>\n",
       "    </tr>\n",
       "  </tbody>\n",
       "</table>\n",
       "</div>"
      ],
      "text/plain": [
       "                                            abstract associatedId  \\\n",
       "0  [{'label': None, 'text': 'Syndromic surveillan...      5676517   \n",
       "1                                                 []      5676505   \n",
       "2  [{'label': 'Background', 'text': 'Public Healt...      6092922   \n",
       "\n",
       "                                              author             journalISO  \\\n",
       "0  [{'fname': 'Paula W.', 'lname': 'Yoon', 'conta...      Public Health Rep   \n",
       "1  [{'fname': 'Paula W.', 'lname': 'Yoon', 'conta...      Public Health Rep   \n",
       "2  [{'fname': 'S. E.', 'lname': 'Harcourt', 'cont...  J Public Health (Oxf)   \n",
       "\n",
       "                                  journalName  \\\n",
       "0                       Public Health Reports   \n",
       "1                       Public Health Reports   \n",
       "2  Journal of Public Health (Oxford, England)   \n",
       "\n",
       "                                           meshterms  \\\n",
       "0  [{'descriptorname': 'research agenda'}, {'desc...   \n",
       "1  [{'descriptorname': 'syndromic surveillance'},...   \n",
       "2  [{'descriptorname': 'epidemiology'}, {'descrip...   \n",
       "\n",
       "               optionalId01 optionalId02  \\\n",
       "0  10.1177/0033354917709784     28692395   \n",
       "1  10.1177/0033354917706953     28692401   \n",
       "2     10.1093/pubmed/fdw013     26956114   \n",
       "\n",
       "                                   publishdate publishdatefull  \\\n",
       "0  {'day': '10', 'month': '7', 'year': '2017'}       7/10/2017   \n",
       "1  {'day': '10', 'month': '7', 'year': '2017'}       7/10/2017   \n",
       "2  {'day': '07', 'month': '3', 'year': '2016'}       3/07/2016   \n",
       "\n",
       "                             pubtype pullsource  \\\n",
       "0  [Advancing Surveillance Practice]        pmc   \n",
       "1  [Advancing Surveillance Practice]        pmc   \n",
       "2                 [Original Article]        pmc   \n",
       "\n",
       "                                               title  \n",
       "0  A Practitioner-Driven Research Agenda for Synd...  \n",
       "1  Developing a Multidisciplinary Syndromic Surve...  \n",
       "2  Developing and validating a new national remot...  "
      ]
     },
     "execution_count": 42,
     "metadata": {},
     "output_type": "execute_result"
    }
   ],
   "source": [
    "results.head()"
   ]
  },
  {
   "cell_type": "markdown",
   "metadata": {},
   "source": [
    "Clean up folder."
   ]
  },
  {
   "cell_type": "code",
   "execution_count": 41,
   "metadata": {},
   "outputs": [],
   "source": [
    "# helper.update_id_json(prop_dict)\n",
    "helper.clean_folder()"
   ]
  },
  {
   "cell_type": "code",
   "execution_count": null,
   "metadata": {},
   "outputs": [],
   "source": []
  }
 ],
 "metadata": {
  "kernelspec": {
   "display_name": "Python 3",
   "language": "python",
   "name": "python3"
  },
  "language_info": {
   "codemirror_mode": {
    "name": "ipython",
    "version": 3
   },
   "file_extension": ".py",
   "mimetype": "text/x-python",
   "name": "python",
   "nbconvert_exporter": "python",
   "pygments_lexer": "ipython3",
   "version": "3.7.2"
  }
 },
 "nbformat": 4,
 "nbformat_minor": 2
}
